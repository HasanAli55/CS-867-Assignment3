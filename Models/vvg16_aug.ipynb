{
 "cells": [
  {
   "cell_type": "code",
   "execution_count": null,
   "metadata": {
    "id": "Wf6sEZxdhB_F"
   },
   "outputs": [],
   "source": [
    "from keras.applications.vgg16 import VGG16\n",
    "from keras.models import Model,Sequential\n",
    "from keras.layers import Dense\n",
    "from keras.layers import Flatten ,Dropout\n",
    "from keras.optimizers import Adam\n",
    "import os\n",
    "import cv2\n",
    "import numpy as np\n",
    "from imutils import paths\n",
    "from sklearn.preprocessing import LabelBinarizer\n",
    "from tqdm import tqdm\n",
    "import tensorflow as tf\n",
    "import keras\n",
    "from tensorflow.keras.preprocessing.image import ImageDataGenerator\n",
    "from keras.optimizers import SGD"
   ]
  },
  {
   "cell_type": "code",
   "execution_count": null,
   "metadata": {
    "id": "lZ87TFhDKATI"
   },
   "outputs": [],
   "source": [
    "vgg = VGG16(include_top=False, weights='imagenet',input_shape=(150, 150, 3))\n",
    "for layer in vgg.layers[:]:\n",
    "    layer.trainable = False\n"
   ]
  },
  {
   "cell_type": "code",
   "execution_count": null,
   "metadata": {
    "colab": {
     "base_uri": "https://localhost:8080/"
    },
    "id": "JGwIgzHdikiY",
    "outputId": "a253b0cb-8fe2-44a9-c0c4-e0a4a3936673"
   },
   "outputs": [
    {
     "name": "stdout",
     "output_type": "stream",
     "text": [
      "Model: \"sequential_2\"\n",
      "_________________________________________________________________\n",
      "Layer (type)                 Output Shape              Param #   \n",
      "=================================================================\n",
      "vgg16 (Functional)           (None, 7, 7, 512)         14714688  \n",
      "_________________________________________________________________\n",
      "flatten_2 (Flatten)          (None, 25088)             0         \n",
      "_________________________________________________________________\n",
      "dense_4 (Dense)              (None, 1024)              25691136  \n",
      "_________________________________________________________________\n",
      "dropout_2 (Dropout)          (None, 1024)              0         \n",
      "_________________________________________________________________\n",
      "dense_5 (Dense)              (None, 6)                 6150      \n",
      "=================================================================\n",
      "Total params: 40,411,974\n",
      "Trainable params: 25,697,286\n",
      "Non-trainable params: 14,714,688\n",
      "_________________________________________________________________\n"
     ]
    }
   ],
   "source": [
    "model = Sequential()\n",
    "model.add(vgg)\n",
    "\n",
    "# Add new layers\n",
    "model.add(Flatten())\n",
    "model.add(Dense(1024, activation='relu'))\n",
    "model.add(Dropout(0.5))\n",
    "model.add(Dense(6, activation='softmax'))\n",
    "\n",
    "model.summary()"
   ]
  },
  {
   "cell_type": "code",
   "execution_count": null,
   "metadata": {
    "colab": {
     "base_uri": "https://localhost:8080/"
    },
    "id": "QKQytfp9ilAF",
    "outputId": "0a88f556-a384-434b-88b3-dc92632a71ff"
   },
   "outputs": [
    {
     "name": "stdout",
     "output_type": "stream",
     "text": [
      "Found 14034 images belonging to 6 classes.\n",
      "Found 3000 images belonging to 6 classes.\n",
      "Found 7301 images belonging to 6 classes.\n"
     ]
    }
   ],
   "source": [
    "train_dir ='/content/drive/MyDrive/data/seg_train'\n",
    "valid_dir ='/content/drive/MyDrive/data/seg_test/'\n",
    "pred_dir  = '/content/drive/MyDrive/data/seg_pred/'\n",
    "#Add data-augmentation parameters to ImageDataGenerator\n",
    "datagen = ImageDataGenerator(rescale = 1./255., shear_range=0.2,\n",
    "horizontal_flip=True)\n",
    "\n",
    "#Generate batches and load data with real-time data augmentation.\n",
    "train_generator=datagen.flow_from_directory(\n",
    "      train_dir,\n",
    "      target_size=(150,150),\n",
    "      batch_size=64,\n",
    "      class_mode='categorical')\n",
    "\n",
    "validation_generator=datagen.flow_from_directory(\n",
    "      valid_dir,\n",
    "      target_size=(150,150),\n",
    "      batch_size=64,\n",
    "      class_mode='categorical')\n",
    "\n",
    "test_datagen = ImageDataGenerator(rescale = 1./255.)\n",
    "test_generator = test_datagen.flow_from_directory(\n",
    "    pred_dir, \n",
    "    target_size=(150,150),\n",
    "    batch_size=64,\n",
    "    class_mode='categorical' )"
   ]
  },
  {
   "cell_type": "code",
   "execution_count": null,
   "metadata": {
    "id": "G7eLo-Glilaa"
   },
   "outputs": [],
   "source": [
    "#Compile model\n",
    "\n",
    "sgd = SGD(lr=0.001, decay=1e-7, momentum=.9)\n",
    "model.compile(loss='categorical_crossentropy', \n",
    "              optimizer=sgd,\n",
    "              metrics=['accuracy'])"
   ]
  },
  {
   "cell_type": "code",
   "execution_count": null,
   "metadata": {
    "colab": {
     "base_uri": "https://localhost:8080/"
    },
    "id": "rNDbbOYyilva",
    "outputId": "fd534abd-d869-41ac-c768-8c9856c3236c"
   },
   "outputs": [
    {
     "name": "stdout",
     "output_type": "stream",
     "text": [
      "Epoch 1/25\n",
      "141/141 [==============================] - 185s 1s/step - loss: 1.2436 - accuracy: 0.5060 - val_loss: 0.6232 - val_accuracy: 0.7470\n",
      "Epoch 2/25\n",
      "141/141 [==============================] - 184s 1s/step - loss: 0.6499 - accuracy: 0.7537 - val_loss: 0.4691 - val_accuracy: 0.8313\n",
      "Epoch 3/25\n",
      "141/141 [==============================] - 184s 1s/step - loss: 0.5738 - accuracy: 0.7785 - val_loss: 0.4205 - val_accuracy: 0.8537\n",
      "Epoch 4/25\n",
      "141/141 [==============================] - 185s 1s/step - loss: 0.5296 - accuracy: 0.8012 - val_loss: 0.4223 - val_accuracy: 0.8520\n",
      "Epoch 5/25\n",
      "141/141 [==============================] - 184s 1s/step - loss: 0.5107 - accuracy: 0.8044 - val_loss: 0.4132 - val_accuracy: 0.8490\n",
      "Epoch 6/25\n",
      "141/141 [==============================] - 184s 1s/step - loss: 0.5165 - accuracy: 0.8033 - val_loss: 0.4230 - val_accuracy: 0.8387\n",
      "Epoch 7/25\n",
      "141/141 [==============================] - 184s 1s/step - loss: 0.4870 - accuracy: 0.8140 - val_loss: 0.3747 - val_accuracy: 0.8650\n",
      "Epoch 8/25\n",
      "141/141 [==============================] - 184s 1s/step - loss: 0.4700 - accuracy: 0.8215 - val_loss: 0.4274 - val_accuracy: 0.8390\n",
      "Epoch 9/25\n",
      "141/141 [==============================] - 184s 1s/step - loss: 0.4820 - accuracy: 0.8176 - val_loss: 0.3789 - val_accuracy: 0.8607\n",
      "Epoch 10/25\n",
      "141/141 [==============================] - 184s 1s/step - loss: 0.4592 - accuracy: 0.8254 - val_loss: 0.3848 - val_accuracy: 0.8527\n",
      "Epoch 11/25\n",
      "141/141 [==============================] - 184s 1s/step - loss: 0.4617 - accuracy: 0.8300 - val_loss: 0.3839 - val_accuracy: 0.8577\n",
      "Epoch 12/25\n",
      "141/141 [==============================] - 184s 1s/step - loss: 0.4476 - accuracy: 0.8322 - val_loss: 0.3779 - val_accuracy: 0.8603\n",
      "Epoch 13/25\n",
      "141/141 [==============================] - 184s 1s/step - loss: 0.4409 - accuracy: 0.8363 - val_loss: 0.4087 - val_accuracy: 0.8353\n",
      "Epoch 14/25\n",
      "141/141 [==============================] - 185s 1s/step - loss: 0.4294 - accuracy: 0.8455 - val_loss: 0.3674 - val_accuracy: 0.8640\n",
      "Epoch 15/25\n",
      "141/141 [==============================] - 184s 1s/step - loss: 0.4301 - accuracy: 0.8428 - val_loss: 0.3763 - val_accuracy: 0.8580\n",
      "Epoch 16/25\n",
      "141/141 [==============================] - 184s 1s/step - loss: 0.4253 - accuracy: 0.8399 - val_loss: 0.3573 - val_accuracy: 0.8710\n",
      "Epoch 17/25\n",
      "141/141 [==============================] - 184s 1s/step - loss: 0.4267 - accuracy: 0.8429 - val_loss: 0.3592 - val_accuracy: 0.8643\n",
      "Epoch 18/25\n",
      "141/141 [==============================] - 184s 1s/step - loss: 0.4093 - accuracy: 0.8505 - val_loss: 0.3675 - val_accuracy: 0.8677\n",
      "Epoch 19/25\n",
      "141/141 [==============================] - 184s 1s/step - loss: 0.4210 - accuracy: 0.8422 - val_loss: 0.3765 - val_accuracy: 0.8607\n",
      "Epoch 20/25\n",
      "141/141 [==============================] - 185s 1s/step - loss: 0.4172 - accuracy: 0.8461 - val_loss: 0.3434 - val_accuracy: 0.8693\n",
      "Epoch 21/25\n",
      "141/141 [==============================] - 185s 1s/step - loss: 0.4124 - accuracy: 0.8456 - val_loss: 0.3427 - val_accuracy: 0.8757\n",
      "Epoch 22/25\n",
      "141/141 [==============================] - 185s 1s/step - loss: 0.4124 - accuracy: 0.8417 - val_loss: 0.3340 - val_accuracy: 0.8800\n",
      "Epoch 23/25\n",
      "141/141 [==============================] - 185s 1s/step - loss: 0.3952 - accuracy: 0.8551 - val_loss: 0.3353 - val_accuracy: 0.8777\n",
      "Epoch 24/25\n",
      "141/141 [==============================] - 185s 1s/step - loss: 0.3820 - accuracy: 0.8601 - val_loss: 0.3326 - val_accuracy: 0.8823\n",
      "Epoch 25/25\n",
      "141/141 [==============================] - 184s 1s/step - loss: 0.4019 - accuracy: 0.8490 - val_loss: 0.3391 - val_accuracy: 0.8783\n"
     ]
    }
   ],
   "source": [
    "H = model.fit(train_generator, batch_size=128,\n",
    "              epochs=25, \n",
    "              validation_data=validation_generator)\n",
    "## save the model's trained weights\n",
    "model.save_weights('vgg_transfer_trained_wts.h5')"
   ]
  },
  {
   "cell_type": "code",
   "execution_count": null,
   "metadata": {
    "colab": {
     "base_uri": "https://localhost:8080/"
    },
    "id": "MF780ul0imBH",
    "outputId": "9ae34706-1e1a-463d-8d89-6cd574fd2c36"
   },
   "outputs": [
    {
     "name": "stdout",
     "output_type": "stream",
     "text": [
      "115/115 [==============================] - 1866s 16s/step - loss: 0.2520 - accuracy: 0.9095\n",
      "Test Loss =  0.2520221173763275\n",
      "Test Accuracy =  0.9094644784927368\n"
     ]
    }
   ],
   "source": [
    "#Evaluating the model\n",
    "score = model.evaluate(test_generator)\n",
    "print('Test Loss = ', score[0])\n",
    "print('Test Accuracy = ', score[1])"
   ]
  },
  {
   "cell_type": "code",
   "execution_count": null,
   "metadata": {
    "colab": {
     "base_uri": "https://localhost:8080/"
    },
    "id": "OM7Du0EIime-",
    "outputId": "e0bc0b13-1eb9-426f-a07e-3735f40946cb"
   },
   "outputs": [
    {
     "data": {
      "text/plain": [
       "array([[1151,    0,    0,    0,    0,    0],\n",
       "       [   0, 1163,    0,    0,    0,    0],\n",
       "       [   0,    0, 1555,    0,    0,    0],\n",
       "       [   0,    0,    0, 1071,    0,    0],\n",
       "       [   0,    0,    0,    0, 1102,    0],\n",
       "       [   0,    0,    0,    0,    0, 1259]])"
      ]
     },
     "execution_count": 16,
     "metadata": {
      "tags": []
     },
     "output_type": "execute_result"
    }
   ],
   "source": [
    "# Making prediction\n",
    "y_pred = model.predict(test_generator)\n",
    "y_true = np.argmax(y_pred, axis=-1)\n",
    "\n",
    "#Confusion Matrix\n",
    "from sklearn.metrics import confusion_matrix\n",
    "confusion_mtx = confusion_matrix(y_true, np.argmax(y_pred, axis=1))\n",
    "confusion_mtx"
   ]
  },
  {
   "cell_type": "code",
   "execution_count": null,
   "metadata": {
    "colab": {
     "base_uri": "https://localhost:8080/",
     "height": 513
    },
    "id": "9memCJboimwT",
    "outputId": "6f478176-b52d-4eab-c948-ffa0460978e2"
   },
   "outputs": [
    {
     "data": {
      "image/png": "[encoded data removed]",
      "text/plain": [
       "<Figure size 432x288 with 1 Axes>"
      ]
     },
     "metadata": {
      "needs_background": "light",
      "tags": []
     },
     "output_type": "display_data"
    },
    {
     "data": {
      "image/png": "[encoded data removed]",
      "text/plain": [
       "<Figure size 432x288 with 1 Axes>"
      ]
     },
     "metadata": {
      "needs_background": "light",
      "tags": []
     },
     "output_type": "display_data"
    }
   ],
   "source": [
    "# %matplotlib inline\n",
    "acc=H.history['accuracy']\n",
    "val_acc=H.history['val_accuracy']\n",
    "loss=H.history['loss']\n",
    "val_loss=H.history['val_loss']\n",
    "epochs=range(len(acc)) \n",
    "\n",
    "#Plot training and validation accuracy per epoch\n",
    "import matplotlib.pyplot as plt\n",
    "plt.plot(epochs,acc,'b',label='Training Accuracy')\n",
    "plt.plot(epochs,val_acc,'r',label='Validation Accuracy')\n",
    "plt.legend()\n",
    "plt.figure()\n",
    "\n",
    "#Plot training and validation loss per epoch\n",
    "plt.plot(epochs,loss,'b',label='Training Loss')\n",
    "plt.plot(epochs,val_loss,'r',label='Validation Loss')\n",
    "plt.legend()\n",
    "plt.show()"
   ]
  }
 ],
 "metadata": {
  "accelerator": "GPU",
  "colab": {
   "collapsed_sections": [],
   "name": "train.ipynb",
   "provenance": []
  },
  "kernelspec": {
   "display_name": "Python 3",
   "language": "python",
   "name": "python3"
  },
  "language_info": {
   "codemirror_mode": {
    "name": "ipython",
    "version": 3
   },
   "file_extension": ".py",
   "mimetype": "text/x-python",
   "name": "python",
   "nbconvert_exporter": "python",
   "pygments_lexer": "ipython3",
   "version": "3.8.5"
  }
 },
 "nbformat": 4,
 "nbformat_minor": 1
}
